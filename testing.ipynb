{
 "cells": [
  {
   "cell_type": "code",
   "execution_count": 1,
   "id": "38c0718c",
   "metadata": {},
   "outputs": [],
   "source": [
    "%load_ext autoreload\n",
    "%autoreload 1\n",
    "\n",
    "import numpy as np\n",
    "import pandas as pd\n",
    "import matplotlib.pyplot as plt\n",
    "import sklearn"
   ]
  },
  {
   "cell_type": "code",
   "execution_count": 2,
   "id": "b29929ba",
   "metadata": {},
   "outputs": [
    {
     "data": {
      "text/html": [
       "<div>\n",
       "<style scoped>\n",
       "    .dataframe tbody tr th:only-of-type {\n",
       "        vertical-align: middle;\n",
       "    }\n",
       "\n",
       "    .dataframe tbody tr th {\n",
       "        vertical-align: top;\n",
       "    }\n",
       "\n",
       "    .dataframe thead th {\n",
       "        text-align: right;\n",
       "    }\n",
       "</style>\n",
       "<table border=\"1\" class=\"dataframe\">\n",
       "  <thead>\n",
       "    <tr style=\"text-align: right;\">\n",
       "      <th></th>\n",
       "      <th>Date</th>\n",
       "      <th>Location</th>\n",
       "      <th>MinTemp</th>\n",
       "      <th>MaxTemp</th>\n",
       "      <th>Rainfall</th>\n",
       "      <th>Evaporation</th>\n",
       "      <th>Sunshine</th>\n",
       "      <th>WindGustDir</th>\n",
       "      <th>WindGustSpeed</th>\n",
       "      <th>WindDir9am</th>\n",
       "      <th>...</th>\n",
       "      <th>Humidity9am</th>\n",
       "      <th>Humidity3pm</th>\n",
       "      <th>Pressure9am</th>\n",
       "      <th>Pressure3pm</th>\n",
       "      <th>Cloud9am</th>\n",
       "      <th>Cloud3pm</th>\n",
       "      <th>Temp9am</th>\n",
       "      <th>Temp3pm</th>\n",
       "      <th>RainToday</th>\n",
       "      <th>RainTomorrow</th>\n",
       "    </tr>\n",
       "  </thead>\n",
       "  <tbody>\n",
       "    <tr>\n",
       "      <th>0</th>\n",
       "      <td>2008-12-01</td>\n",
       "      <td>Albury</td>\n",
       "      <td>13.4</td>\n",
       "      <td>22.9</td>\n",
       "      <td>0.6</td>\n",
       "      <td>NaN</td>\n",
       "      <td>NaN</td>\n",
       "      <td>W</td>\n",
       "      <td>44.0</td>\n",
       "      <td>W</td>\n",
       "      <td>...</td>\n",
       "      <td>71.0</td>\n",
       "      <td>22.0</td>\n",
       "      <td>1007.7</td>\n",
       "      <td>1007.1</td>\n",
       "      <td>8.0</td>\n",
       "      <td>NaN</td>\n",
       "      <td>16.9</td>\n",
       "      <td>21.8</td>\n",
       "      <td>No</td>\n",
       "      <td>No</td>\n",
       "    </tr>\n",
       "    <tr>\n",
       "      <th>1</th>\n",
       "      <td>2008-12-02</td>\n",
       "      <td>Albury</td>\n",
       "      <td>7.4</td>\n",
       "      <td>25.1</td>\n",
       "      <td>0.0</td>\n",
       "      <td>NaN</td>\n",
       "      <td>NaN</td>\n",
       "      <td>WNW</td>\n",
       "      <td>44.0</td>\n",
       "      <td>NNW</td>\n",
       "      <td>...</td>\n",
       "      <td>44.0</td>\n",
       "      <td>25.0</td>\n",
       "      <td>1010.6</td>\n",
       "      <td>1007.8</td>\n",
       "      <td>NaN</td>\n",
       "      <td>NaN</td>\n",
       "      <td>17.2</td>\n",
       "      <td>24.3</td>\n",
       "      <td>No</td>\n",
       "      <td>No</td>\n",
       "    </tr>\n",
       "    <tr>\n",
       "      <th>2</th>\n",
       "      <td>2008-12-03</td>\n",
       "      <td>Albury</td>\n",
       "      <td>12.9</td>\n",
       "      <td>25.7</td>\n",
       "      <td>0.0</td>\n",
       "      <td>NaN</td>\n",
       "      <td>NaN</td>\n",
       "      <td>WSW</td>\n",
       "      <td>46.0</td>\n",
       "      <td>W</td>\n",
       "      <td>...</td>\n",
       "      <td>38.0</td>\n",
       "      <td>30.0</td>\n",
       "      <td>1007.6</td>\n",
       "      <td>1008.7</td>\n",
       "      <td>NaN</td>\n",
       "      <td>2.0</td>\n",
       "      <td>21.0</td>\n",
       "      <td>23.2</td>\n",
       "      <td>No</td>\n",
       "      <td>No</td>\n",
       "    </tr>\n",
       "    <tr>\n",
       "      <th>3</th>\n",
       "      <td>2008-12-04</td>\n",
       "      <td>Albury</td>\n",
       "      <td>9.2</td>\n",
       "      <td>28.0</td>\n",
       "      <td>0.0</td>\n",
       "      <td>NaN</td>\n",
       "      <td>NaN</td>\n",
       "      <td>NE</td>\n",
       "      <td>24.0</td>\n",
       "      <td>SE</td>\n",
       "      <td>...</td>\n",
       "      <td>45.0</td>\n",
       "      <td>16.0</td>\n",
       "      <td>1017.6</td>\n",
       "      <td>1012.8</td>\n",
       "      <td>NaN</td>\n",
       "      <td>NaN</td>\n",
       "      <td>18.1</td>\n",
       "      <td>26.5</td>\n",
       "      <td>No</td>\n",
       "      <td>No</td>\n",
       "    </tr>\n",
       "    <tr>\n",
       "      <th>4</th>\n",
       "      <td>2008-12-05</td>\n",
       "      <td>Albury</td>\n",
       "      <td>17.5</td>\n",
       "      <td>32.3</td>\n",
       "      <td>1.0</td>\n",
       "      <td>NaN</td>\n",
       "      <td>NaN</td>\n",
       "      <td>W</td>\n",
       "      <td>41.0</td>\n",
       "      <td>ENE</td>\n",
       "      <td>...</td>\n",
       "      <td>82.0</td>\n",
       "      <td>33.0</td>\n",
       "      <td>1010.8</td>\n",
       "      <td>1006.0</td>\n",
       "      <td>7.0</td>\n",
       "      <td>8.0</td>\n",
       "      <td>17.8</td>\n",
       "      <td>29.7</td>\n",
       "      <td>No</td>\n",
       "      <td>No</td>\n",
       "    </tr>\n",
       "  </tbody>\n",
       "</table>\n",
       "<p>5 rows × 23 columns</p>\n",
       "</div>"
      ],
      "text/plain": [
       "         Date Location  MinTemp  MaxTemp  Rainfall  Evaporation  Sunshine  \\\n",
       "0  2008-12-01   Albury     13.4     22.9       0.6          NaN       NaN   \n",
       "1  2008-12-02   Albury      7.4     25.1       0.0          NaN       NaN   \n",
       "2  2008-12-03   Albury     12.9     25.7       0.0          NaN       NaN   \n",
       "3  2008-12-04   Albury      9.2     28.0       0.0          NaN       NaN   \n",
       "4  2008-12-05   Albury     17.5     32.3       1.0          NaN       NaN   \n",
       "\n",
       "  WindGustDir  WindGustSpeed WindDir9am  ... Humidity9am  Humidity3pm  \\\n",
       "0           W           44.0          W  ...        71.0         22.0   \n",
       "1         WNW           44.0        NNW  ...        44.0         25.0   \n",
       "2         WSW           46.0          W  ...        38.0         30.0   \n",
       "3          NE           24.0         SE  ...        45.0         16.0   \n",
       "4           W           41.0        ENE  ...        82.0         33.0   \n",
       "\n",
       "   Pressure9am  Pressure3pm  Cloud9am  Cloud3pm  Temp9am  Temp3pm  RainToday  \\\n",
       "0       1007.7       1007.1       8.0       NaN     16.9     21.8         No   \n",
       "1       1010.6       1007.8       NaN       NaN     17.2     24.3         No   \n",
       "2       1007.6       1008.7       NaN       2.0     21.0     23.2         No   \n",
       "3       1017.6       1012.8       NaN       NaN     18.1     26.5         No   \n",
       "4       1010.8       1006.0       7.0       8.0     17.8     29.7         No   \n",
       "\n",
       "   RainTomorrow  \n",
       "0            No  \n",
       "1            No  \n",
       "2            No  \n",
       "3            No  \n",
       "4            No  \n",
       "\n",
       "[5 rows x 23 columns]"
      ]
     },
     "execution_count": 2,
     "metadata": {},
     "output_type": "execute_result"
    }
   ],
   "source": [
    "df = pd.read_csv('data/weatherAUS.csv')\n",
    "df.head()"
   ]
  },
  {
   "cell_type": "code",
   "execution_count": 6,
   "id": "049b0a55",
   "metadata": {},
   "outputs": [
    {
     "name": "stdout",
     "output_type": "stream",
     "text": [
      "0 \t Date \t\t\t <class 'str'>\n",
      "1 \t Location \t\t\t <class 'str'>\n",
      "2 \t MinTemp \t\t\t <class 'numpy.float64'>\n",
      "3 \t MaxTemp \t\t\t <class 'numpy.float64'>\n",
      "4 \t Rainfall \t\t\t <class 'numpy.float64'>\n",
      "5 \t Evaporation \t\t\t <class 'numpy.float64'>\n",
      "6 \t Sunshine \t\t\t <class 'numpy.float64'>\n",
      "7 \t WindGustDir \t\t\t <class 'str'>\n",
      "8 \t WindGustSpeed \t\t\t <class 'numpy.float64'>\n",
      "9 \t WindDir9am \t\t\t <class 'str'>\n",
      "10 \t WindDir3pm \t\t\t <class 'str'>\n",
      "11 \t WindSpeed9am \t\t\t <class 'numpy.float64'>\n",
      "12 \t WindSpeed3pm \t\t\t <class 'numpy.float64'>\n",
      "13 \t Humidity9am \t\t\t <class 'numpy.float64'>\n",
      "14 \t Humidity3pm \t\t\t <class 'numpy.float64'>\n",
      "15 \t Pressure9am \t\t\t <class 'numpy.float64'>\n",
      "16 \t Pressure3pm \t\t\t <class 'numpy.float64'>\n",
      "17 \t Cloud9am \t\t\t <class 'numpy.float64'>\n",
      "18 \t Cloud3pm \t\t\t <class 'numpy.float64'>\n",
      "19 \t Temp9am \t\t\t <class 'numpy.float64'>\n",
      "20 \t Temp3pm \t\t\t <class 'numpy.float64'>\n",
      "21 \t RainToday \t\t\t <class 'str'>\n",
      "22 \t RainTomorrow \t\t\t <class 'str'>\n"
     ]
    }
   ],
   "source": [
    "feature_names = df.columns\n",
    "for i in range(len(feature_names)):\n",
    "    print(str(i), \"\\t\", str(feature_names[i]),\"\\t\\t\\t\", str(type(df.iloc[0,i])))"
   ]
  },
  {
   "cell_type": "markdown",
   "id": "00404383",
   "metadata": {},
   "source": [
    "# Dummy Data Gen"
   ]
  },
  {
   "cell_type": "code",
   "execution_count": 2,
   "id": "332f3a4f",
   "metadata": {},
   "outputs": [],
   "source": [
    "def gen_cluster(n, max_mean=10, max_var=3):\n",
    "    means = np.random.rand(2) * max_mean\n",
    "    var = np.random.rand(2) * max_var\n",
    "    x = np.random.normal(means[0], var[0], n).reshape(n,1)\n",
    "    y = np.random.normal(means[1], var[1], n).reshape(n,1)\n",
    "    data = np.concatenate([x, y], axis=1)\n",
    "    return data\n",
    "\n",
    "def gen_data(num_clusts=3, n=100):\n",
    "    pos_data = gen_cluster(n, max_mean=10, max_var=5)\n",
    "    neg_data = gen_cluster(n, max_mean=10, max_var=5)\n",
    "    for i in range(num_clusts-1):\n",
    "        pos_data = np.concatenate([pos_data, gen_cluster(n, max_mean=10, max_var=5)])\n",
    "        neg_data = np.concatenate([neg_data, gen_cluster(n, max_mean=10, max_var=5)])\n",
    "    data = np.concatenate([pos_data, neg_data])\n",
    "    labels = [1] * (n * num_clusts) + [0] * (n * num_clusts)\n",
    "    return data, labels"
   ]
  },
  {
   "cell_type": "code",
   "execution_count": 3,
   "id": "e72a2f1c",
   "metadata": {},
   "outputs": [
    {
     "name": "stdout",
     "output_type": "stream",
     "text": [
      "(600, 2)\n"
     ]
    },
    {
     "data": {
      "text/plain": [
       "<matplotlib.collections.PathCollection at 0x1e5b0a2a048>"
      ]
     },
     "execution_count": 3,
     "metadata": {},
     "output_type": "execute_result"
    },
    {
     "data": {
      "image/png": "[encoded data removed]",
      "text/plain": [
       "<Figure size 432x288 with 1 Axes>"
      ]
     },
     "metadata": {
      "needs_background": "light"
     },
     "output_type": "display_data"
    }
   ],
   "source": [
    "data, labels = gen_data(num_clusts=3, n=100)\n",
    "print(data.shape)\n",
    "plt.scatter(data[:,0], data[:,1], c=labels)"
   ]
  },
  {
   "cell_type": "code",
   "execution_count": 4,
   "id": "0b45c60f",
   "metadata": {},
   "outputs": [],
   "source": [
    "# ideas: just do kmeans first and use that straight as labels, make it optimize with other class decreasing affinity, \n",
    "# pick out of many iters that which doens't have other class with high affinity\n",
    "# optimize with two sets of clusters at once, each trying to only have those from their stuff\n",
    "# penalty to including points of other cluster but still trying to optimize normally"
   ]
  },
  {
   "cell_type": "code",
   "execution_count": 5,
   "id": "f3e47fbe",
   "metadata": {},
   "outputs": [],
   "source": [
    "import gmm\n",
    "%aimport gmm"
   ]
  },
  {
   "cell_type": "code",
   "execution_count": 9,
   "id": "246f67e5",
   "metadata": {},
   "outputs": [],
   "source": [
    "alg = gmm.GMM(n_components=4, init='random')"
   ]
  },
  {
   "cell_type": "code",
   "execution_count": 17,
   "id": "e762302c",
   "metadata": {},
   "outputs": [
    {
     "name": "stdout",
     "output_type": "stream",
     "text": [
      "likelihood -3364.9022684832416\n"
     ]
    },
    {
     "name": "stderr",
     "output_type": "stream",
     "text": [
      "C:\\Users\\Alex\\Desktop\\academics\\orie-4741\\ORIE-4741-Project\\gmm.py:160: RuntimeWarning: invalid value encountered in double_scalars\n",
      "  if theta is None:\n"
     ]
    },
    {
     "name": "stdout",
     "output_type": "stream",
     "text": [
      "likelihood -3350.2283002948316\n",
      "likelihood -3344.322576982382\n",
      "likelihood -3340.5197277719435\n",
      "likelihood -3337.418634210144\n",
      "likelihood -3334.578819745433\n",
      "likelihood -3331.9283725152595\n",
      "likelihood -3329.6147321253748\n",
      "likelihood -3327.782784388065\n",
      "likelihood -3326.4279543248435\n",
      "likelihood -3325.465598801084\n",
      "likelihood -3324.792929512597\n",
      "likelihood -3324.3149228653583\n",
      "likelihood -3323.9581420168324\n",
      "likelihood -3323.6730448302437\n"
     ]
    }
   ],
   "source": [
    "alg.fit(data)"
   ]
  },
  {
   "cell_type": "code",
   "execution_count": 18,
   "id": "57e35571",
   "metadata": {},
   "outputs": [
    {
     "data": {
      "image/png": "[encoded data removed]",
      "text/plain": [
       "<Figure size 432x288 with 1 Axes>"
      ]
     },
     "metadata": {
      "needs_background": "light"
     },
     "output_type": "display_data"
    },
    {
     "data": {
      "text/plain": [
       "-3323.6730448302437"
      ]
     },
     "execution_count": 18,
     "metadata": {},
     "output_type": "execute_result"
    }
   ],
   "source": [
    "alg.plot2d(data)\n",
    "alg.gmm_likelihood(data)"
   ]
  },
  {
   "cell_type": "code",
   "execution_count": null,
   "id": "f8df50bd",
   "metadata": {},
   "outputs": [],
   "source": []
  }
 ],
 "metadata": {
  "kernelspec": {
   "display_name": "Python 3",
   "language": "python",
   "name": "python3"
  },
  "language_info": {
   "codemirror_mode": {
    "name": "ipython",
    "version": 3
   },
   "file_extension": ".py",
   "mimetype": "text/x-python",
   "name": "python",
   "nbconvert_exporter": "python",
   "pygments_lexer": "ipython3",
   "version": "3.6.10"
  }
 },
 "nbformat": 4,
 "nbformat_minor": 5
}
